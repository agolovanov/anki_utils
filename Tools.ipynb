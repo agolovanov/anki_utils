{
 "cells": [
  {
   "cell_type": "code",
   "execution_count": null,
   "id": "2e04ebe7-26cb-4eae-ad1e-3f8ca86f3290",
   "metadata": {
    "tags": []
   },
   "outputs": [],
   "source": [
    "import ipywidgets\n",
    "from IPython.core.display import HTML"
   ]
  },
  {
   "cell_type": "code",
   "execution_count": null,
   "id": "f2fe8696-64ab-4f7e-aa85-f730c4719c48",
   "metadata": {
    "tags": []
   },
   "outputs": [],
   "source": [
    "from utils import convert_audio_tag\n",
    "\n",
    "def convert_audio(audio_string):\n",
    "    strings = audio_string.split(']')\n",
    "    strings = [s for s in strings if s != '']\n",
    "    converted = [convert_audio_tag(s + ']') for s in strings]\n",
    "    result = ''.join(converted)\n",
    "    print(result)\n",
    "    #return result\n",
    "    \n",
    "ipywidgets.interact(convert_audio, audio_string='')"
   ]
  },
  {
   "cell_type": "code",
   "execution_count": null,
   "id": "a14e511a-8e18-4b86-96d5-7dd93c91d094",
   "metadata": {},
   "outputs": [],
   "source": [
    "def convert_shoresh(shoresh_string):\n",
    "    result = shoresh_string.replace(' ', '').replace('-', '־')\n",
    "    result_tag = result.replace('־', '::')\n",
    "    print(result)\n",
    "    print(result_tag)\n",
    "    \n",
    "ipywidgets.interact(convert_shoresh, shoresh_string='')"
   ]
  },
  {
   "cell_type": "code",
   "execution_count": null,
   "id": "38c27a58-9a13-43b0-9df9-a018b8c53678",
   "metadata": {},
   "outputs": [],
   "source": [
    "def generate_example(hebrew, english, highlighted_word=None):\n",
    "    if highlighted_word:\n",
    "        hebrew = hebrew.replace(highlighted_word, f'<b>{highlighted_word}</b>')\n",
    "    print(f'<div class=\"heb\">{hebrew}‏<span class=\"eng\">{english}</span></div>')\n",
    "\n",
    "ipywidgets.interact(generate_example, hebrew='', english='', highlighted_word='')"
   ]
  },
  {
   "cell_type": "code",
   "execution_count": null,
   "id": "66c6e499-8873-4252-9b82-ba9a6c335b93",
   "metadata": {
    "tags": []
   },
   "outputs": [],
   "source": [
    "'‏'"
   ]
  },
  {
   "cell_type": "code",
   "execution_count": null,
   "id": "d3d32e00-8f74-4dca-af5a-562b71528f52",
   "metadata": {},
   "outputs": [],
   "source": [
    "def format_dictionary(string):\n",
    "    print(string.replace('; ', '; <br>').replace(')', ')</small>').replace('(', '<small>(').replace(']', ']</small>').replace('[', '<small>[').strip())\n",
    "\n",
    "ipywidgets.interact(format_dictionary, string='')"
   ]
  },
  {
   "cell_type": "code",
   "execution_count": null,
   "id": "e758f6bb-573a-412e-bde5-5ccd9bb8e329",
   "metadata": {},
   "outputs": [],
   "source": []
  }
 ],
 "metadata": {
  "kernelspec": {
   "display_name": "Python 3 (ipykernel)",
   "language": "python",
   "name": "python3"
  },
  "language_info": {
   "codemirror_mode": {
    "name": "ipython",
    "version": 3
   },
   "file_extension": ".py",
   "mimetype": "text/x-python",
   "name": "python",
   "nbconvert_exporter": "python",
   "pygments_lexer": "ipython3",
   "version": "3.10.12"
  }
 },
 "nbformat": 4,
 "nbformat_minor": 5
}
