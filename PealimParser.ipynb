{
 "cells": [
  {
   "cell_type": "code",
   "execution_count": null,
   "id": "16c0d436-54e0-49ea-8ae9-9c114a09b372",
   "metadata": {
    "tags": []
   },
   "outputs": [],
   "source": [
    "import requests\n",
    "from IPython.core.display import HTML\n",
    "from bs4 import BeautifulSoup\n",
    "from bs4.element import Tag"
   ]
  },
  {
   "cell_type": "code",
   "execution_count": null,
   "id": "2a788448-39a4-47bb-82c3-6a6e3179869d",
   "metadata": {
    "tags": []
   },
   "outputs": [],
   "source": [
    "#פָּעַ for pa'al, פִּעֵ pi'el, הִפְ hif'il, הִתְ hitpa'el, הֻפְ huf'al, פֻּעַ pu'al, נִפְ nifal"
   ]
  },
  {
   "cell_type": "code",
   "execution_count": null,
   "id": "c4a554e7-fcc5-4f9d-b122-1fa0e5eec7c9",
   "metadata": {
    "tags": []
   },
   "outputs": [],
   "source": [
    "url = 'https://www.pealim.com/dict/1843-letzaref/'"
   ]
  },
  {
   "cell_type": "code",
   "execution_count": null,
   "id": "a9761249-2a5f-430e-af97-2456293390b8",
   "metadata": {
    "tags": []
   },
   "outputs": [],
   "source": [
    "r = requests.get(url)\n",
    "soup = BeautifulSoup(r.content, 'html.parser')"
   ]
  },
  {
   "cell_type": "code",
   "execution_count": null,
   "id": "74ae4ba4-6c76-40b8-a175-7386e8abd017",
   "metadata": {
    "tags": []
   },
   "outputs": [],
   "source": [
    "table = soup.select('.conjugation-table.table')[0]\n",
    "HTML(str(table))"
   ]
  },
  {
   "cell_type": "code",
   "execution_count": null,
   "id": "12a72734-0ff8-48da-bf8b-924fb52cd89f",
   "metadata": {
    "tags": []
   },
   "outputs": [],
   "source": [
    "table_body = table.find('tbody')\n",
    "\n",
    "content = {}\n",
    "\n",
    "def parse_row(row):\n",
    "    return [parse_cell(cell) for cell in row.find_all('td')]\n",
    "\n",
    "def parse_cell(cell):\n",
    "    \n",
    "    for div in cell.find_all(\"div\", {'class':'aux-forms'}): \n",
    "        div.decompose()\n",
    "\n",
    "    result = {'hebrew' : [str(h.contents[0]) for h in cell.select('.menukad')],\n",
    "              'transcript' : [''.join([str(s) for s in h.contents]) for h in cell.select('.transcription')]}\n",
    "    if 'colspan' in cell.attrs:\n",
    "        result['colspan'] = cell.attrs['colspan']\n",
    "    return result"
   ]
  },
  {
   "cell_type": "code",
   "execution_count": null,
   "id": "d69649fe-e136-4aae-95bf-cc99db674398",
   "metadata": {
    "tags": []
   },
   "outputs": [],
   "source": [
    "table_content = [parse_row(row) for row in table_body.find_all('tr')]"
   ]
  },
  {
   "cell_type": "code",
   "execution_count": null,
   "id": "84fcb35d-de7f-4248-bce0-ded85004d1fd",
   "metadata": {
    "tags": []
   },
   "outputs": [],
   "source": [
    "table_content"
   ]
  },
  {
   "cell_type": "code",
   "execution_count": null,
   "id": "2c93db5c-630d-404f-b59c-9648a92d8eaf",
   "metadata": {
    "tags": []
   },
   "outputs": [],
   "source": [
    "def create_header_row(name):\n",
    "    row = Tag(name='tr', attrs={'class' : 'butt'})\n",
    "    cell = Tag(name='td', attrs={'colspan': '4'})\n",
    "    cell.append(name)\n",
    "    row.append(cell)\n",
    "    return row\n",
    "\n",
    "def create_cell(cell_content, add_rowspan=False):\n",
    "    cell_attrs = {}\n",
    "    if 'colspan' in cell_content:\n",
    "        cell_attrs['colspan'] = cell_content['colspan']\n",
    "    if add_rowspan:\n",
    "        cell_attrs['rowspan'] = '2'\n",
    "    cell = Tag(name='td', attrs=cell_attrs)\n",
    "    word_count = len(cell_content['hebrew'])\n",
    "    \n",
    "    for i in range(word_count):\n",
    "        content = Tag(name='ruby')\n",
    "        content.append(cell_content['hebrew'][i])\n",
    "        transcript = Tag(name='rt')\n",
    "        transcript.append(BeautifulSoup(cell_content['transcript'][i], 'html.parser'))\n",
    "        content.append(transcript)\n",
    "        cell.append(content)\n",
    "        if i < word_count - 1:\n",
    "            cell.append(BeautifulSoup('<br />', 'html.parser'))\n",
    "    return cell\n",
    "\n",
    "def create_conjugation_row(row_content, add_rowspan=None):\n",
    "    row = Tag(name='tr', attrs={'class' : 'cont'})\n",
    "    if add_rowspan is None:\n",
    "        add_rowspan = [False] * len(row_content)\n",
    "    for cell, rs in zip(row_content, add_rowspan):\n",
    "        row.append(create_cell(cell, rs))\n",
    "    return row\n",
    "\n",
    "def create_border_row():\n",
    "    return Tag(name='tr', attrs={'class' : 'cont bord'})\n",
    "\n",
    "\n",
    "tbody = Tag(name='tbody')\n",
    "tbody.append(create_header_row('הוֹוֶה'))\n",
    "tbody.append(create_conjugation_row(table_content[0]))\n",
    "tbody.append(create_border_row())\n",
    "tbody.append(create_header_row('עָבָר'))\n",
    "tbody.append(create_conjugation_row(table_content[1]))\n",
    "tbody.append(create_conjugation_row(table_content[2]))\n",
    "tbody.append(create_conjugation_row(table_content[3]))\n",
    "tbody.append(create_border_row())\n",
    "tbody.append(create_header_row('עָתִיד'))\n",
    "tbody.append(create_conjugation_row(table_content[4]))\n",
    "tbody.append(create_conjugation_row(table_content[5], add_rowspan=[False, False, False, True]))\n",
    "tbody.append(create_conjugation_row(table_content[6][:-1]))\n",
    "if len(table_content) > 7:\n",
    "    tbody.append(create_border_row())\n",
    "    tbody.append(create_header_row('צִוּוּי'))\n",
    "    tbody.append(create_conjugation_row(table_content[7]))\n",
    "\n",
    "new_table = Tag(name='table')\n",
    "new_table.append(tbody)"
   ]
  },
  {
   "cell_type": "code",
   "execution_count": null,
   "id": "c37f61cb-8de0-427a-9c26-6dcded8d68a5",
   "metadata": {
    "tags": []
   },
   "outputs": [],
   "source": [
    "new_table"
   ]
  },
  {
   "cell_type": "code",
   "execution_count": null,
   "id": "4bfdeb6a-5143-4d3d-aa1e-baa2e912365f",
   "metadata": {
    "tags": []
   },
   "outputs": [],
   "source": [
    "HTML(str(new_table))"
   ]
  },
  {
   "cell_type": "code",
   "execution_count": null,
   "id": "4c152ff9-36eb-4dd1-bde0-ca2e20ceec11",
   "metadata": {},
   "outputs": [],
   "source": []
  },
  {
   "cell_type": "code",
   "execution_count": null,
   "id": "ea473071-7db7-4c5e-b513-6c8b7229d503",
   "metadata": {},
   "outputs": [],
   "source": []
  }
 ],
 "metadata": {
  "kernelspec": {
   "display_name": "Python 3 (ipykernel)",
   "language": "python",
   "name": "python3"
  },
  "language_info": {
   "codemirror_mode": {
    "name": "ipython",
    "version": 3
   },
   "file_extension": ".py",
   "mimetype": "text/x-python",
   "name": "python",
   "nbconvert_exporter": "python",
   "pygments_lexer": "ipython3",
   "version": "3.10.12"
  }
 },
 "nbformat": 4,
 "nbformat_minor": 5
}
